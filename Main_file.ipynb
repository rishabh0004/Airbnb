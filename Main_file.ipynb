{
 "cells": [
  {
   "cell_type": "code",
   "execution_count": 1,
   "id": "c5f50610-22e4-49b4-96f0-15053113dc69",
   "metadata": {},
   "outputs": [],
   "source": [
    "# Importing Libraries\n",
    "import pandas as pd\n",
    "import numpy as np"
   ]
  },
  {
   "cell_type": "code",
   "execution_count": 2,
   "id": "fe73b7ea-f19e-4105-8f12-02bdc678888c",
   "metadata": {},
   "outputs": [],
   "source": [
    "# Importing Data file\n",
    "df = pd.read_csv('Total_Listing_cleaned_V1.6.csv',low_memory=False)"
   ]
  },
  {
   "cell_type": "code",
   "execution_count": 3,
   "id": "c7144163-0bdf-4b70-8543-92f49b5cdc1c",
   "metadata": {},
   "outputs": [],
   "source": [
    "# We have deleted the columns because Airbnb host will not fill this information as these columns does not make any sense for prediction\n",
    "df = df.drop(['id','name','description','neighborhood_overview','host_location','host_about','number_of_reviews','number_of_reviews_ltm','review_scores_rating','review_scores_accuracy','review_scores_cleanliness','review_scores_checkin','review_scores_communication','review_scores_location','review_scores_value','reviews_per_month','property_type'], axis=1)\n",
    "df = df.drop(['latitude','longitude','host_response_rate','host_response_time','host_acceptance_rate','host_has_profile_pic','host_identity_verified','has_availability','calculated_host_listings_count_entire_homes',\n",
    " 'calculated_host_listings_count_private_rooms',\n",
    " 'calculated_host_listings_count_shared_rooms'], axis=1)\n",
    "df = df.drop(['host_since','host_is_superhost','instant_bookable','availability_60','availability_90','availability_365'], axis=1)"
   ]
  },
  {
   "cell_type": "code",
   "execution_count": 4,
   "id": "32b92fcc-7e77-4a2f-be56-272405931bdd",
   "metadata": {},
   "outputs": [
    {
     "name": "stdout",
     "output_type": "stream",
     "text": [
      "<class 'pandas.core.frame.DataFrame'>\n",
      "RangeIndex: 18016 entries, 0 to 18015\n",
      "Data columns (total 14 columns):\n",
      " #   Column                     Non-Null Count  Dtype  \n",
      "---  ------                     --------------  -----  \n",
      " 0   host_total_listings_count  18016 non-null  int64  \n",
      " 1   neighbourhood_cleansed     18016 non-null  object \n",
      " 2   new_property_type          18016 non-null  object \n",
      " 3   room_type                  18016 non-null  object \n",
      " 4   accommodates               18016 non-null  int64  \n",
      " 5   bathrooms_count            18016 non-null  float64\n",
      " 6   Shared/Category            18016 non-null  object \n",
      " 7   bedrooms                   18016 non-null  int64  \n",
      " 8   beds                       18016 non-null  int64  \n",
      " 9   amenities                  18016 non-null  object \n",
      " 10  price                      18016 non-null  int64  \n",
      " 11  minimum_nights             18016 non-null  int64  \n",
      " 12  maximum_nights             18016 non-null  int64  \n",
      " 13  availability_30            18016 non-null  int64  \n",
      "dtypes: float64(1), int64(8), object(5)\n",
      "memory usage: 1.9+ MB\n"
     ]
    }
   ],
   "source": [
    "df.info()"
   ]
  },
  {
   "cell_type": "code",
   "execution_count": 5,
   "id": "f10cd6f1-b045-402d-ae48-be67fc768cf1",
   "metadata": {},
   "outputs": [
    {
     "data": {
      "text/plain": [
       "host_total_listings_count    0\n",
       "neighbourhood_cleansed       0\n",
       "new_property_type            0\n",
       "room_type                    0\n",
       "accommodates                 0\n",
       "bathrooms_count              0\n",
       "Shared/Category              0\n",
       "bedrooms                     0\n",
       "beds                         0\n",
       "amenities                    0\n",
       "price                        0\n",
       "minimum_nights               0\n",
       "maximum_nights               0\n",
       "availability_30              0\n",
       "dtype: int64"
      ]
     },
     "execution_count": 5,
     "metadata": {},
     "output_type": "execute_result"
    }
   ],
   "source": [
    "df.isnull().sum()"
   ]
  },
  {
   "cell_type": "code",
   "execution_count": 6,
   "id": "3c0d3482-511b-42bf-bde5-dfeac4765b9b",
   "metadata": {},
   "outputs": [],
   "source": [
    "# Price is selected till 500 as majority of airbnb data lies between 0 to 500 and Hotel room has only 29 entries\n",
    "df = df[(df['price'] < 500)]\n",
    "df = df[(df['room_type'] != 'Hotel room')]"
   ]
  },
  {
   "cell_type": "code",
   "execution_count": 7,
   "id": "45ce3a61-2c66-4221-a773-3c354b43f7e9",
   "metadata": {},
   "outputs": [],
   "source": [
    "# Neighbourhood_Cleansed columns transformed to neighbourhood_level for better prediction\n",
    "neighbourhood_avg_price = df[['neighbourhood_cleansed','price']].groupby('neighbourhood_cleansed')['price'].mean().sort_values(ascending=False)\n",
    "\n",
    "neighbourhood_class_df = neighbourhood_avg_price.to_frame()\n",
    "\n",
    "# Converting neighbourhoods to Levels\n",
    "def neigbourhood_class(row):\n",
    "  if row['price'] >=0 and row['price'] <= 70:\n",
    "    return 1\n",
    "  elif row['price'] > 70 and row['price'] <= 130:\n",
    "    return 2\n",
    "  elif row['price'] >130 and row['price'] <= 180: \n",
    "    return 3\n",
    "  else:\n",
    "    return 4\n",
    "  \n",
    "neighbourhood_class_df['neigbourhood_level'] = neighbourhood_class_df.apply(neigbourhood_class,axis=1)\n",
    "\n",
    "df = df.merge(neighbourhood_class_df,on='neighbourhood_cleansed')\n",
    "\n",
    "df = df.drop(['price_y','neighbourhood_cleansed'], axis=1)"
   ]
  },
  {
   "cell_type": "code",
   "execution_count": 8,
   "id": "c4b7af81-4855-442e-a6ba-6cc0a298f0ff",
   "metadata": {},
   "outputs": [],
   "source": [
    "# Natural Log of price is taken for better prediction\n",
    "df['log_price'] = np.log(df['price_x'])\n",
    "df = df.drop(['price_x'], axis=1)"
   ]
  },
  {
   "cell_type": "code",
   "execution_count": 9,
   "id": "4aba084d-a369-4ceb-915c-b6f6f1d1adb8",
   "metadata": {},
   "outputs": [],
   "source": [
    "# Amenities columns transformed into useful features for prediction\n",
    "import re\n",
    "from collections import Counter\n",
    "\n",
    "df['amenities_num'] = [len(x) for x in df.amenities.str.split(',')] #number of amenities\n",
    "\n",
    "df.amenities = df.amenities.apply(\n",
    "    lambda x: re.sub('[^a-zA-Z,\\/\\s\\d-]*', '', x).split(sep=','))\n",
    "\n",
    "amenities_list = [item for sublist in df.amenities for item in sublist]\n",
    "amenity_counts = Counter(amenities_list).most_common()\n",
    "amenities_of_interest = [x[0] for x in amenity_counts[0:70]]\n",
    "\n",
    "amenities_cols = []\n",
    "amenities_col_names = []\n",
    "for amenity in amenities_of_interest:\n",
    "    amenities_cols.append([1 if x==True else 0 for x in df.amenities.apply(lambda x: amenity in x)])\n",
    "    amenities_col_names.append(('amen_'+amenity))\n",
    "    \n",
    "amenity_columns = pd.DataFrame(amenities_cols).transpose()\n",
    "amenity_columns.columns=amenities_col_names\n",
    "amenity_columns.index=df.index\n",
    "\n",
    "kitchen_amenities = [\n",
    "    'Kitchen', 'Refrigerator', 'Dishes and silverware', 'Microwave',' Cooking basics',\n",
    "    'Coffee maker',' Hot water kettle',' Freezer',' Stove',' Oven',' Dishwasher',' Toaster',' Dining table',' Wine glasses',\n",
    "    ' Baking sheet',' BBQ grill']\n",
    "\n",
    "safety_amenities = [' Smoke alarm',' Carbon monoxide alarm', ' Fire extinguisher',\n",
    "    ' First aid kit',' Lock on bedroom door', ' Lockbox',' Security cameras on property',' Keypad']\n",
    "\n",
    "household_amenities = [' Long term stays allowed',' Essentials',\n",
    "    ' Air conditioning', ' Heating', ' Dedicated workspace',' Free parking on premises',\n",
    "    ' Private entrance',' Luggage dropoff allowed', 'Elevator',' Free street parking', \n",
    "    ' Paid parking off premises',' Room-darkening shades',' Conditioner', ' Indoor fireplace',' Host greets you',' Paid parking on premises', ' Elevator',\n",
    "    ' Outdoor furniture']\n",
    "\n",
    "bedroom_amenities = [' Hangers',' Bed linens',' Extra pillows and blankets']\n",
    "\n",
    "electronics_amenities = [' TV',' Wifi',' TV with standard cable',' Ethernet connection']\n",
    "\n",
    "extra_spaces_amenities = [' Patio or balcony',' Pool',' Private patio or balcony',' Backyard',' Hot tub', 'BBQ grill',' Gym',' Single level home']\n",
    "\n",
    "cleaning_amenities = [' Cleaning products','Shampoo', 'Hair dryer', 'Washer', 'Dryer', 'Iron', 'Hot water', 'Bathtub',' Shower gel',' Body soap']\n",
    "\n",
    "amenity_groups = [\n",
    "    kitchen_amenities, safety_amenities, cleaning_amenities,\n",
    "    household_amenities, bedroom_amenities, electronics_amenities,\n",
    "    extra_spaces_amenities\n",
    "]\n",
    "\n",
    "amenity_group_cols = []\n",
    "for group in amenity_groups:\n",
    "    amenity_group_cols.append(df.amenities.apply(\n",
    "    lambda x: len(set(group).intersection(set(x)))))\n",
    "    \n",
    "amenity_group_columns = pd.DataFrame(amenity_group_cols).transpose()\n",
    "amenity_group_columns.index = df.index\n",
    "amenity_group_columns.columns = [\n",
    "    'amen_group_kitchen', 'amen_group_cleaning', 'amen_group_safety',\n",
    "    'amen_group_household', 'amen_group_bedroom', 'amen_group_electronics',\n",
    "    'amen_group_extra_spaces'\n",
    "]\n",
    "\n",
    "df = df.merge(amenity_group_columns,how='left',left_index=True,right_index=True)\n",
    "df = df.drop(\"amenities\", axis=1)"
   ]
  },
  {
   "cell_type": "code",
   "execution_count": 10,
   "id": "a0a55fd2-71d2-4594-9f52-8e8025f3cf1d",
   "metadata": {},
   "outputs": [
    {
     "name": "stdout",
     "output_type": "stream",
     "text": [
      "<class 'pandas.core.frame.DataFrame'>\n",
      "Int64Index: 17548 entries, 0 to 17547\n",
      "Data columns (total 21 columns):\n",
      " #   Column                     Non-Null Count  Dtype  \n",
      "---  ------                     --------------  -----  \n",
      " 0   host_total_listings_count  17548 non-null  int64  \n",
      " 1   new_property_type          17548 non-null  object \n",
      " 2   room_type                  17548 non-null  object \n",
      " 3   accommodates               17548 non-null  int64  \n",
      " 4   bathrooms_count            17548 non-null  float64\n",
      " 5   Shared/Category            17548 non-null  object \n",
      " 6   bedrooms                   17548 non-null  int64  \n",
      " 7   beds                       17548 non-null  int64  \n",
      " 8   minimum_nights             17548 non-null  int64  \n",
      " 9   maximum_nights             17548 non-null  int64  \n",
      " 10  availability_30            17548 non-null  int64  \n",
      " 11  neigbourhood_level         17548 non-null  int64  \n",
      " 12  log_price                  17548 non-null  float64\n",
      " 13  amenities_num              17548 non-null  int64  \n",
      " 14  amen_group_kitchen         17548 non-null  int64  \n",
      " 15  amen_group_cleaning        17548 non-null  int64  \n",
      " 16  amen_group_safety          17548 non-null  int64  \n",
      " 17  amen_group_household       17548 non-null  int64  \n",
      " 18  amen_group_bedroom         17548 non-null  int64  \n",
      " 19  amen_group_electronics     17548 non-null  int64  \n",
      " 20  amen_group_extra_spaces    17548 non-null  int64  \n",
      "dtypes: float64(2), int64(16), object(3)\n",
      "memory usage: 3.4+ MB\n"
     ]
    }
   ],
   "source": [
    "df.info()"
   ]
  },
  {
   "cell_type": "code",
   "execution_count": 11,
   "id": "5d3f0055-72c8-4d66-92aa-74ca5ed4058e",
   "metadata": {},
   "outputs": [],
   "source": [
    "# Copied data to different variable\n",
    "df3 = df.copy()"
   ]
  },
  {
   "cell_type": "code",
   "execution_count": 12,
   "id": "c879e47f-73fe-49de-8b89-3a24c303537f",
   "metadata": {},
   "outputs": [],
   "source": [
    "# data is divided into 'modeling data' and 'unseen data'. Then extracted data in two excel files.\n",
    "data = df3.sample(frac=0.9, random_state=123).reset_index(drop=True)\n",
    "data_unseen = df3.drop(data.index).reset_index(drop=True)\n",
    "data.to_csv('new_pycaret2.csv', index=False)\n",
    "data_unseen.to_csv('test.csv', index=False)"
   ]
  },
  {
   "cell_type": "code",
   "execution_count": null,
   "id": "fdae4fab-3e66-463a-b73c-475024a7cc21",
   "metadata": {},
   "outputs": [],
   "source": []
  }
 ],
 "metadata": {
  "kernelspec": {
   "display_name": "Python 3 (ipykernel)",
   "language": "python",
   "name": "python3"
  },
  "language_info": {
   "codemirror_mode": {
    "name": "ipython",
    "version": 3
   },
   "file_extension": ".py",
   "mimetype": "text/x-python",
   "name": "python",
   "nbconvert_exporter": "python",
   "pygments_lexer": "ipython3",
   "version": "3.9.11"
  }
 },
 "nbformat": 4,
 "nbformat_minor": 5
}
